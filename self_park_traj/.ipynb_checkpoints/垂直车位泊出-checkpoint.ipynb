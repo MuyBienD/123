{
 "cells": [
  {
   "cell_type": "code",
   "execution_count": 1,
   "id": "4ec77e18",
   "metadata": {
    "ExecuteTime": {
     "end_time": "2022-05-13T08:35:09.013944Z",
     "start_time": "2022-05-13T08:35:08.091274Z"
    }
   },
   "outputs": [],
   "source": [
    "import numpy as np\n",
    "import matplotlib.pyplot as plt\n",
    "from sympy import *\n",
    "import mpmath"
   ]
  },
  {
   "cell_type": "code",
   "execution_count": 2,
   "id": "4ae874ce",
   "metadata": {
    "ExecuteTime": {
     "end_time": "2022-05-13T08:50:01.675810Z",
     "start_time": "2022-05-13T08:50:01.665844Z"
    }
   },
   "outputs": [],
   "source": [
    "def ParkDrawPerpe(park, car):\n",
    "    plt.plot(park[\"park_left\"][0], park[\"park_left\"][1], color='black', linewidth=2.0)\n",
    "    plt.plot(park[\"park_target\"][0], park[\"park_target\"][1], color='black', linewidth=2.0)\n",
    "    plt.plot(park[\"park_right\"][0], park[\"park_right\"][1], color='black', linewidth=2.0)\n",
    "    plt.plot(car[\"rectangle\"][0], car[\"rectangle\"][1], color='blue')\n",
    "    # plt.axis([-7, 15, 0, 7])\n",
    "    plt.pause(0.1)"
   ]
  },
  {
   "cell_type": "code",
   "execution_count": 3,
   "id": "77764dcc",
   "metadata": {
    "ExecuteTime": {
     "end_time": "2022-05-13T08:50:09.820549Z",
     "start_time": "2022-05-13T08:50:09.811544Z"
    }
   },
   "outputs": [],
   "source": [
    "def car_p(car_length, car_width, c_o):\n",
    "    \"\"\"\n",
    "\n",
    "    :param car_length:\n",
    "    :param car_width:\n",
    "    :param c_o:\n",
    "    :param car:\n",
    "    :return:\n",
    "    \"\"\"\n",
    "    x = c_o[0]\n",
    "    y = c_o[1]\n",
    "    car = dict()\n",
    "    car[\"rectangle\"] = [[x - car_lr, x - car_lr + car_length, x - car_lr + car_length, x - car_lr,\n",
    "                         x - car_lr],\n",
    "                        [y - car_width / 2, y - car_width / 2, y + car_width / 2,\n",
    "                         y + car_width / 2, y - car_width / 2]]\n",
    "    car[\"rear_axle\"] = [[x, x], [y - car_br / 2, y + car_br / 2]]\n",
    "    car[\"front_axle\"] = [[x + car_l, x + car_l], [y - car_br / 2, y + car_br / 2]]\n",
    "    car[\"connect\"] = [[x, x + car_l], [y, y]]\n",
    "\n",
    "    return car"
   ]
  },
  {
   "cell_type": "code",
   "execution_count": 4,
   "id": "00e631d7",
   "metadata": {
    "ExecuteTime": {
     "end_time": "2022-05-13T08:50:18.147920Z",
     "start_time": "2022-05-13T08:50:18.138969Z"
    }
   },
   "outputs": [],
   "source": [
    "def RotTheta(car, theta, c_o):\n",
    "    \"\"\"\n",
    "    线条绕着某点旋转到一定角度，计算旋转完成后线条的坐标\n",
    "    :param car:待旋转的线条\n",
    "    :param theta: 绕旋转中心点转到的角度\n",
    "    :param x: 旋转中心的横坐标\n",
    "    :param y: 旋转中心的纵坐标\n",
    "    :return: 旋转完成之后线条\n",
    "    \"\"\"\n",
    "    x = c_o[0]\n",
    "    y = c_o[1]\n",
    "    new_car = dict()\n",
    "    new_car[\"rectangle\"] = [[], []]\n",
    "    new_car[\"rear_axle\"] = [[], []]\n",
    "    new_car[\"front_axle\"] = [[], []]\n",
    "    new_car[\"connect\"] = [[], []]\n",
    "    for i in car:\n",
    "        for j in range(len(car[i][0])):\n",
    "            x_final = (car[i][0][j] - x) * np.cos(theta) - (car[i][1][j] - y) * np.sin(theta) + x\n",
    "            y_final = (car[i][0][j] - x) * np.sin(theta) + (car[i][1][j] - y) * np.cos(theta) + y\n",
    "            new_car[i][0].append(x_final)\n",
    "            new_car[i][1].append(y_final)\n",
    "    return new_car"
   ]
  },
  {
   "cell_type": "code",
   "execution_count": 5,
   "id": "3d2d8ef8",
   "metadata": {
    "ExecuteTime": {
     "end_time": "2022-05-13T08:50:26.400366Z",
     "start_time": "2022-05-13T08:50:26.395351Z"
    }
   },
   "outputs": [],
   "source": [
    "park = dict()\n",
    "park_length = 6.5\n",
    "park_width = 2.5\n",
    "park[\"park_left\"] = [[-park_width / 2, -park_width / 2, -park_width * 1.5, -park_width * 1.5, -park_width / 2],\n",
    "                     [0, -park_length, -park_length, 0, 0]]\n",
    "park[\"park_target\"] = [[park_width / 2, park_width / 2, -park_width / 2, -park_width / 2, park_width / 2],\n",
    "                       [0, -park_length, -park_length, 0, 0]]\n",
    "park[\"park_right\"] = [[park_width * 1.5, 1.5 * park_width, park_width / 2, park_width / 2, park_width * 1.5],\n",
    "                      [0, -park_length, -park_length, 0, 0]]"
   ]
  },
  {
   "cell_type": "code",
   "execution_count": 6,
   "id": "00ab8293",
   "metadata": {
    "ExecuteTime": {
     "end_time": "2022-05-13T08:53:28.168307Z",
     "start_time": "2022-05-13T08:53:28.082399Z"
    }
   },
   "outputs": [
    {
     "ename": "TypeError",
     "evalue": "ParkDrawPerpe() missing 2 required positional arguments: 'park' and 'car'",
     "output_type": "error",
     "traceback": [
      "\u001b[1;31m---------------------------------------------------------------------------\u001b[0m",
      "\u001b[1;31mTypeError\u001b[0m                                 Traceback (most recent call last)",
      "\u001b[1;32m~\\AppData\\Local\\Temp\\ipykernel_22312\\593201100.py\u001b[0m in \u001b[0;36m<module>\u001b[1;34m\u001b[0m\n\u001b[1;32m----> 1\u001b[1;33m \u001b[0mParkDrawPerpe\u001b[0m\u001b[1;33m(\u001b[0m\u001b[1;33m)\u001b[0m\u001b[1;33m\u001b[0m\u001b[1;33m\u001b[0m\u001b[0m\n\u001b[0m",
      "\u001b[1;31mTypeError\u001b[0m: ParkDrawPerpe() missing 2 required positional arguments: 'park' and 'car'"
     ]
    }
   ],
   "source": [
    "ParkDrawPerpe()"
   ]
  },
  {
   "cell_type": "code",
   "execution_count": null,
   "id": "088c750a",
   "metadata": {},
   "outputs": [],
   "source": []
  }
 ],
 "metadata": {
  "kernelspec": {
   "display_name": "Python [conda env:panosim] *",
   "language": "python",
   "name": "conda-env-panosim-py"
  },
  "language_info": {
   "codemirror_mode": {
    "name": "ipython",
    "version": 3
   },
   "file_extension": ".py",
   "mimetype": "text/x-python",
   "name": "python",
   "nbconvert_exporter": "python",
   "pygments_lexer": "ipython3",
   "version": "3.7.11"
  },
  "toc": {
   "base_numbering": 1,
   "nav_menu": {},
   "number_sections": true,
   "sideBar": true,
   "skip_h1_title": false,
   "title_cell": "Table of Contents",
   "title_sidebar": "Contents",
   "toc_cell": false,
   "toc_position": {},
   "toc_section_display": true,
   "toc_window_display": false
  },
  "varInspector": {
   "cols": {
    "lenName": 16,
    "lenType": 16,
    "lenVar": 40
   },
   "kernels_config": {
    "python": {
     "delete_cmd_postfix": "",
     "delete_cmd_prefix": "del ",
     "library": "var_list.py",
     "varRefreshCmd": "print(var_dic_list())"
    },
    "r": {
     "delete_cmd_postfix": ") ",
     "delete_cmd_prefix": "rm(",
     "library": "var_list.r",
     "varRefreshCmd": "cat(var_dic_list()) "
    }
   },
   "types_to_exclude": [
    "module",
    "function",
    "builtin_function_or_method",
    "instance",
    "_Feature"
   ],
   "window_display": false
  }
 },
 "nbformat": 4,
 "nbformat_minor": 5
}
